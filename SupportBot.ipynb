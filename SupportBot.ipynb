{
  "nbformat": 4,
  "nbformat_minor": 5,
  "metadata": {
    "selected_hardware_size": "small",
    "noteable": {
      "last_transaction_id": "c2bbe00c-7874-45b5-90d5-7fd20a7cda4e"
    }
  },
  "cells": [
    {
      "id": "54f618c4",
      "cell_type": "code",
      "metadata": {},
      "execution_count": null,
      "source": "",
      "outputs": []
    }
  ]
}